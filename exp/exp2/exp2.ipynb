{
 "cells": [
  {
   "cell_type": "code",
   "execution_count": 1,
   "metadata": {},
   "outputs": [],
   "source": [
    "import binascii\n",
    "import serial\n",
    "import os"
   ]
  },
  {
   "cell_type": "code",
   "execution_count": 2,
   "metadata": {},
   "outputs": [
    {
     "data": {
      "text/plain": [
       "32512"
      ]
     },
     "execution_count": 2,
     "metadata": {},
     "output_type": "execute_result"
    }
   ],
   "source": [
    "os.system('sh ./stop_sys_ttyPS0.sh')"
   ]
  },
  {
   "cell_type": "code",
   "execution_count": 3,
   "metadata": {},
   "outputs": [],
   "source": [
    "def run_action(cmd):\n",
    "    ser = serial.Serial(\"/dev/ttyPS0\", 9600, timeout=5)\n",
    "    cnt_err = 0\n",
    "    while 1:\n",
    "        test_read = ser.read()\n",
    "        #print('test_read', test_read)\n",
    "        cnt_err += 1\n",
    "        if test_read== b'\\xa3' or cnt_err == 50:\n",
    "            break\n",
    "    \n",
    "    if cnt_err == 50:\n",
    "        print('can not get REQ')\n",
    "    else:\n",
    "        print('read REQ finished!')\n",
    "        ser.write(cmd2data(cmd))\n",
    "        print('send action ok!')\n",
    "    ser.close()"
   ]
  },
  {
   "cell_type": "code",
   "execution_count": 4,
   "metadata": {},
   "outputs": [],
   "source": [
    "def crc_calculate(package):\n",
    "    crc = 0\n",
    "    for hex_data in package:\n",
    "\n",
    "        b2 = hex_data.to_bytes(1, byteorder='little')\n",
    "        crc = binascii.crc_hqx(b2, crc)\n",
    "\n",
    "    return [(crc >> 8), (crc & 255)]    # 校验位两位"
   ]
  },
  {
   "cell_type": "code",
   "execution_count": 5,
   "metadata": {},
   "outputs": [],
   "source": [
    "def cmd2data(cmd):\n",
    "    cnt=0\n",
    "    cmd_list=[]\n",
    "    for i in cmd:\n",
    "        cnt+=1\n",
    "        cmd_list+=[ord(i)]\n",
    "    cmd_list=[0xff,0xff]+[(cnt+5)>>8,(cnt+5)&255]+[0x01,(cnt+1)&255,0x03]+cmd_list\n",
    "    cmd_list=cmd_list+crc_calculate(cmd_list)\n",
    "    return cmd_list"
   ]
  },
  {
   "cell_type": "code",
   "execution_count": 6,
   "metadata": {},
   "outputs": [],
   "source": [
    "def wait_req():\n",
    "    ser = serial.Serial(\"/dev/ttyPS0\", 9600, timeout=5)\n",
    "    while 1:\n",
    "        test_read=ser.read()\n",
    "        if test_read== b'\\xa3' :\n",
    "            print('read REQ finished!') \n",
    "            break\n",
    "        "
   ]
  },
  {
   "cell_type": "code",
   "execution_count": 7,
   "metadata": {},
   "outputs": [],
   "source": [
    "import numpy as np\n",
    "import cv2\n",
    "import time\n",
    "from PIL import Image\n",
    "np.set_printoptions(threshold=np.inf)"
   ]
  },
  {
   "cell_type": "code",
   "execution_count": 8,
   "metadata": {},
   "outputs": [],
   "source": [
    "def obj_recog():\n",
    "    orig_img_path = '/home/xilinx/jupyter_notebooks/common/data/webcam.jpg'\n",
    "    !fswebcam  --no-banner --save {orig_img_path} -d /dev/video0 2\n",
    "    # jupyter调用摄像头的代码\n",
    "    im = cv2.imread(orig_img_path)\n",
    "    #cv2.imshow('t',im)\n",
    "    #cv2.imgshow(im)\n",
    "    width = im.shape[1]\n",
    "    height = im.shape[0]\n",
    "    rate = round(width*0.5)\n",
    "    rate1 = round(height*0.2)\n",
    "    half = round(height/2)\n",
    "    ims = im[rate1:half,0:(width-rate)]\n",
    "    ims_right = im[(half+1):(height-rate1),0:(width-rate)]\n",
    "    lower_red = np.array([0, 43, 20]) # 红色范围低阈值\n",
    "    upper_red = np.array([20, 255, 255]) # 红色范围高阈值\n",
    "    lower_red2 = np.array([150, 43, 20]) # 红色范围低阈值\n",
    "    upper_red2 = np.array([200, 255, 255]) # 红色范围高阈值\n",
    "    hsv_img = cv2.cvtColor(ims, cv2.COLOR_BGR2HSV)\n",
    "    mask_red = cv2.inRange(hsv_img, lower_red, upper_red)\n",
    "    mask_red2 = cv2.inRange(hsv_img, lower_red2, upper_red2)\n",
    "    mask = cv2.bitwise_or(mask_red,mask_red2)\n",
    "    # again for right side\n",
    "    hsv_img_right = cv2.cvtColor(ims_right, cv2.COLOR_BGR2HSV)\n",
    "    mask_red_right = cv2.inRange(hsv_img_right, lower_red, upper_red)\n",
    "    mask_red_right2 = cv2.inRange(hsv_img_right, lower_red2, upper_red2)\n",
    "    mask_right = cv2.bitwise_or(mask_red_right,mask_red_right2)\n",
    "    \n",
    "    #print(mask_red)\n",
    "    #print(mask_red2)\n",
    "    #print(mask)\n",
    "    #print(np.sum(mask_red))\n",
    "    #print(np.sum(mask_red2))\n",
    "    #print(np.sum(mask))\n",
    "    nl = np.sum(mask)\n",
    "    nr = np.sum(mask_right)\n",
    "    #print(number)\n",
    "    number = nl + nr\n",
    "    \n",
    "    h1 = height - rate1*2\n",
    "    w1 = width - rate\n",
    "    S = h1*w1\n",
    "    print(\"nr\",nr/255)\n",
    "    print(\"nl\",nl/255)\n",
    "    test = nr/255 - nl/255\n",
    "    print(test )\n",
    "    print(number/S/255)\n",
    "    number = (number/S/255)\n",
    "    \n",
    "    yu = 2000\n",
    "    \n",
    "    if(number < 0.01):\n",
    "        kind =  0\n",
    "    elif ((nr/255 - nl/255) >= yu): # yu zhi\n",
    "        kind = -1\n",
    "    elif ((nl/255 - nr/255) > yu):\n",
    "        kind = 1\n",
    "    else:\n",
    "        kind = 2\n",
    "    #if (number>0.01 && number<0.03 && number>0.5):\n",
    "        #kind = \n",
    "\n",
    "    return kind\n",
    "\n"
   ]
  },
  {
   "cell_type": "code",
   "execution_count": null,
   "metadata": {},
   "outputs": [],
   "source": [
    "start = time.time()\n",
    "now = time.time() \n",
    "flag = 0\n",
    "keep_right = 0\n",
    "while(True):\n",
    "    \n",
    "    now = time.time()    \n",
    "    kind = obj_recog()\n",
    "    print(\"flag\",flag)\n",
    "    print(\"kind\",kind)\n",
    "    if(kind == 2): # red occurs, not know right or left\n",
    "        #身体向右move，直到给定范围内没有红色区域\n",
    "        keep_right = 1\n",
    "        if(flag  == 0):\n",
    "#             run_action('Stand')\n",
    "#             wait_req()\n",
    "            run_action('Right3move')\n",
    "            wait_req()\n",
    "        elif(flag == 1):    \n",
    "#             run_action('Stand')\n",
    "#             wait_req()\n",
    "            run_action('Left3move')\n",
    "            wait_req()\n",
    "        \n",
    "    elif kind == 1:\n",
    "        flag = 0\n",
    "        run_action('Right3move')\n",
    "        wait_req()       \n",
    "        \n",
    "    elif kind == -1:  \n",
    "        flag = 1\n",
    "        run_action('Left3move')\n",
    "        wait_req()   \n",
    "        \n",
    "    elif kind == 0:\n",
    "\n",
    "            run_action('fastForward03')\n",
    "            wait_req()\n",
    "time.sleep(0.1)\n"
   ]
  },
  {
   "cell_type": "code",
   "execution_count": null,
   "metadata": {},
   "outputs": [],
   "source": [
    "orig_img_path = '/home/xilinx/jupyter_notebooks/common/data/webcam.jpg'\n",
    "# !fswebcam  --no-banner --save {orig_img_path} -d /dev/video0 2> /dev/null\n",
    "!fswebcam  --no-banner --save {orig_img_path} -d /dev/video0 2\n",
    "\n",
    "img = Image.open(orig_img_path)\n",
    "kind = obj_recog()\n",
    "print(kind)\n",
    "img"
   ]
  }
 ],
 "metadata": {
  "kernelspec": {
   "display_name": "Python 3",
   "language": "python",
   "name": "python3"
  },
  "language_info": {
   "codemirror_mode": {
    "name": "ipython",
    "version": 3
   },
   "file_extension": ".py",
   "mimetype": "text/x-python",
   "name": "python",
   "nbconvert_exporter": "python",
   "pygments_lexer": "ipython3",
   "version": "3.6.5"
  }
 },
 "nbformat": 4,
 "nbformat_minor": 2
}
